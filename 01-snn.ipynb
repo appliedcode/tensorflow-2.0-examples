{
 "cells": [
  {
   "cell_type": "markdown",
   "metadata": {},
   "source": [
    "## Import"
   ]
  },
  {
   "cell_type": "code",
   "execution_count": 12,
   "metadata": {},
   "outputs": [
    {
     "name": "stdout",
     "output_type": "stream",
     "text": [
      "Requirement already satisfied: tensorflow==2.0.0-alpha0 in /Users/manish/miniconda3/envs/snakes3/lib/python3.7/site-packages (from -r requirements.txt (line 1)) (2.0.0a0)\n",
      "Requirement already satisfied: jupyterlab in /Users/manish/miniconda3/envs/snakes3/lib/python3.7/site-packages (from -r requirements.txt (line 2)) (0.35.3)\n",
      "Requirement already satisfied: matplotlib in /Users/manish/miniconda3/envs/snakes3/lib/python3.7/site-packages (from -r requirements.txt (line 3)) (3.0.3)\n",
      "Requirement already satisfied: pandas in /Users/manish/miniconda3/envs/snakes3/lib/python3.7/site-packages (from -r requirements.txt (line 4)) (0.24.2)\n",
      "Collecting scikit-learn (from -r requirements.txt (line 5))\n",
      "\u001b[?25l  Downloading https://files.pythonhosted.org/packages/bd/1a/5dc99dfa7e7bf2e1f22a07f440b61299148a42d13dee1d5153360313ed67/scikit_learn-0.20.3-cp37-cp37m-macosx_10_6_intel.macosx_10_9_intel.macosx_10_9_x86_64.macosx_10_10_intel.macosx_10_10_x86_64.whl (8.0MB)\n",
      "\u001b[K    100% |████████████████████████████████| 8.0MB 1.6MB/s \n",
      "\u001b[?25hRequirement already satisfied: astor>=0.6.0 in /Users/manish/miniconda3/envs/snakes3/lib/python3.7/site-packages (from tensorflow==2.0.0-alpha0->-r requirements.txt (line 1)) (0.7.1)\n",
      "Requirement already satisfied: keras-preprocessing>=1.0.5 in /Users/manish/miniconda3/envs/snakes3/lib/python3.7/site-packages (from tensorflow==2.0.0-alpha0->-r requirements.txt (line 1)) (1.0.9)\n",
      "Requirement already satisfied: absl-py>=0.7.0 in /Users/manish/miniconda3/envs/snakes3/lib/python3.7/site-packages (from tensorflow==2.0.0-alpha0->-r requirements.txt (line 1)) (0.7.1)\n",
      "Requirement already satisfied: termcolor>=1.1.0 in /Users/manish/miniconda3/envs/snakes3/lib/python3.7/site-packages (from tensorflow==2.0.0-alpha0->-r requirements.txt (line 1)) (1.1.0)\n",
      "Requirement already satisfied: protobuf>=3.6.1 in /Users/manish/miniconda3/envs/snakes3/lib/python3.7/site-packages (from tensorflow==2.0.0-alpha0->-r requirements.txt (line 1)) (3.7.0)\n",
      "Requirement already satisfied: six>=1.10.0 in /Users/manish/miniconda3/envs/snakes3/lib/python3.7/site-packages (from tensorflow==2.0.0-alpha0->-r requirements.txt (line 1)) (1.11.0)\n",
      "Requirement already satisfied: gast>=0.2.0 in /Users/manish/miniconda3/envs/snakes3/lib/python3.7/site-packages (from tensorflow==2.0.0-alpha0->-r requirements.txt (line 1)) (0.2.2)\n",
      "Requirement already satisfied: tb-nightly<1.14.0a20190302,>=1.14.0a20190301 in /Users/manish/miniconda3/envs/snakes3/lib/python3.7/site-packages (from tensorflow==2.0.0-alpha0->-r requirements.txt (line 1)) (1.14.0a20190301)\n",
      "Requirement already satisfied: tf-estimator-nightly<1.14.0.dev2019030116,>=1.14.0.dev2019030115 in /Users/manish/miniconda3/envs/snakes3/lib/python3.7/site-packages (from tensorflow==2.0.0-alpha0->-r requirements.txt (line 1)) (1.14.0.dev2019030115)\n",
      "Requirement already satisfied: numpy<2.0,>=1.14.5 in /Users/manish/miniconda3/envs/snakes3/lib/python3.7/site-packages (from tensorflow==2.0.0-alpha0->-r requirements.txt (line 1)) (1.15.4)\n",
      "Requirement already satisfied: grpcio>=1.8.6 in /Users/manish/miniconda3/envs/snakes3/lib/python3.7/site-packages (from tensorflow==2.0.0-alpha0->-r requirements.txt (line 1)) (1.19.0)\n",
      "Requirement already satisfied: google-pasta>=0.1.2 in /Users/manish/miniconda3/envs/snakes3/lib/python3.7/site-packages (from tensorflow==2.0.0-alpha0->-r requirements.txt (line 1)) (0.1.4)\n",
      "Requirement already satisfied: wheel>=0.26 in /Users/manish/miniconda3/envs/snakes3/lib/python3.7/site-packages (from tensorflow==2.0.0-alpha0->-r requirements.txt (line 1)) (0.32.3)\n",
      "Requirement already satisfied: keras-applications>=1.0.6 in /Users/manish/miniconda3/envs/snakes3/lib/python3.7/site-packages (from tensorflow==2.0.0-alpha0->-r requirements.txt (line 1)) (1.0.7)\n",
      "Requirement already satisfied: notebook>=4.3.1 in /Users/manish/miniconda3/envs/snakes3/lib/python3.7/site-packages (from jupyterlab->-r requirements.txt (line 2)) (5.7.2)\n",
      "Requirement already satisfied: jupyterlab_server<0.3.0,>=0.2.0 in /Users/manish/miniconda3/envs/snakes3/lib/python3.7/site-packages (from jupyterlab->-r requirements.txt (line 2)) (0.2.0)\n",
      "Requirement already satisfied: kiwisolver>=1.0.1 in /Users/manish/miniconda3/envs/snakes3/lib/python3.7/site-packages (from matplotlib->-r requirements.txt (line 3)) (1.0.1)\n",
      "Requirement already satisfied: python-dateutil>=2.1 in /Users/manish/miniconda3/envs/snakes3/lib/python3.7/site-packages (from matplotlib->-r requirements.txt (line 3)) (2.7.5)\n",
      "Requirement already satisfied: pyparsing!=2.0.4,!=2.1.2,!=2.1.6,>=2.0.1 in /Users/manish/miniconda3/envs/snakes3/lib/python3.7/site-packages (from matplotlib->-r requirements.txt (line 3)) (2.3.1)\n",
      "Requirement already satisfied: cycler>=0.10 in /Users/manish/miniconda3/envs/snakes3/lib/python3.7/site-packages (from matplotlib->-r requirements.txt (line 3)) (0.10.0)\n",
      "Requirement already satisfied: pytz>=2011k in /Users/manish/miniconda3/envs/snakes3/lib/python3.7/site-packages (from pandas->-r requirements.txt (line 4)) (2018.9)\n",
      "Collecting scipy>=0.13.3 (from scikit-learn->-r requirements.txt (line 5))\n",
      "\u001b[?25l  Downloading https://files.pythonhosted.org/packages/dd/6c/ccf7403d14f0ab0f20ce611696921f204f4ffce99a4fd383c892a6a7e9eb/scipy-1.2.1-cp37-cp37m-macosx_10_6_intel.macosx_10_9_intel.macosx_10_9_x86_64.macosx_10_10_intel.macosx_10_10_x86_64.whl (27.3MB)\n",
      "\u001b[K    100% |████████████████████████████████| 27.3MB 831kB/s \n",
      "\u001b[?25hRequirement already satisfied: setuptools in /Users/manish/miniconda3/envs/snakes3/lib/python3.7/site-packages (from protobuf>=3.6.1->tensorflow==2.0.0-alpha0->-r requirements.txt (line 1)) (40.6.2)\n",
      "Requirement already satisfied: markdown>=2.6.8 in /Users/manish/miniconda3/envs/snakes3/lib/python3.7/site-packages (from tb-nightly<1.14.0a20190302,>=1.14.0a20190301->tensorflow==2.0.0-alpha0->-r requirements.txt (line 1)) (3.0.1)\n",
      "Requirement already satisfied: werkzeug>=0.11.15 in /Users/manish/miniconda3/envs/snakes3/lib/python3.7/site-packages (from tb-nightly<1.14.0a20190302,>=1.14.0a20190301->tensorflow==2.0.0-alpha0->-r requirements.txt (line 1)) (0.14.1)\n",
      "Requirement already satisfied: h5py in /Users/manish/miniconda3/envs/snakes3/lib/python3.7/site-packages (from keras-applications>=1.0.6->tensorflow==2.0.0-alpha0->-r requirements.txt (line 1)) (2.9.0)\n",
      "Requirement already satisfied: ipykernel in /Users/manish/miniconda3/envs/snakes3/lib/python3.7/site-packages (from notebook>=4.3.1->jupyterlab->-r requirements.txt (line 2)) (5.1.0)\n",
      "Requirement already satisfied: tornado>=4 in /Users/manish/miniconda3/envs/snakes3/lib/python3.7/site-packages (from notebook>=4.3.1->jupyterlab->-r requirements.txt (line 2)) (5.1.1)\n",
      "Requirement already satisfied: nbformat in /Users/manish/miniconda3/envs/snakes3/lib/python3.7/site-packages (from notebook>=4.3.1->jupyterlab->-r requirements.txt (line 2)) (4.4.0)\n",
      "Requirement already satisfied: traitlets>=4.2.1 in /Users/manish/miniconda3/envs/snakes3/lib/python3.7/site-packages (from notebook>=4.3.1->jupyterlab->-r requirements.txt (line 2)) (4.3.2)\n",
      "Requirement already satisfied: Send2Trash in /Users/manish/miniconda3/envs/snakes3/lib/python3.7/site-packages (from notebook>=4.3.1->jupyterlab->-r requirements.txt (line 2)) (1.5.0)\n",
      "Requirement already satisfied: ipython-genutils in /Users/manish/miniconda3/envs/snakes3/lib/python3.7/site-packages (from notebook>=4.3.1->jupyterlab->-r requirements.txt (line 2)) (0.2.0)\n",
      "Requirement already satisfied: terminado>=0.8.1 in /Users/manish/miniconda3/envs/snakes3/lib/python3.7/site-packages (from notebook>=4.3.1->jupyterlab->-r requirements.txt (line 2)) (0.8.1)\n",
      "Requirement already satisfied: nbconvert in /Users/manish/miniconda3/envs/snakes3/lib/python3.7/site-packages (from notebook>=4.3.1->jupyterlab->-r requirements.txt (line 2)) (5.3.1)\n",
      "Requirement already satisfied: jinja2 in /Users/manish/miniconda3/envs/snakes3/lib/python3.7/site-packages (from notebook>=4.3.1->jupyterlab->-r requirements.txt (line 2)) (2.10)\n",
      "Requirement already satisfied: jupyter-core>=4.4.0 in /Users/manish/miniconda3/envs/snakes3/lib/python3.7/site-packages (from notebook>=4.3.1->jupyterlab->-r requirements.txt (line 2)) (4.4.0)\n",
      "Requirement already satisfied: prometheus-client in /Users/manish/miniconda3/envs/snakes3/lib/python3.7/site-packages (from notebook>=4.3.1->jupyterlab->-r requirements.txt (line 2)) (0.4.2)\n",
      "Requirement already satisfied: jupyter-client>=5.2.0 in /Users/manish/miniconda3/envs/snakes3/lib/python3.7/site-packages (from notebook>=4.3.1->jupyterlab->-r requirements.txt (line 2)) (5.2.3)\n",
      "Requirement already satisfied: pyzmq>=17 in /Users/manish/miniconda3/envs/snakes3/lib/python3.7/site-packages (from notebook>=4.3.1->jupyterlab->-r requirements.txt (line 2)) (17.1.2)\n",
      "Requirement already satisfied: jsonschema>=2.6.0 in /Users/manish/miniconda3/envs/snakes3/lib/python3.7/site-packages (from jupyterlab_server<0.3.0,>=0.2.0->jupyterlab->-r requirements.txt (line 2)) (2.6.0)\n",
      "Requirement already satisfied: ipython>=5.0.0 in /Users/manish/miniconda3/envs/snakes3/lib/python3.7/site-packages (from ipykernel->notebook>=4.3.1->jupyterlab->-r requirements.txt (line 2)) (7.1.1)\n",
      "Requirement already satisfied: decorator in /Users/manish/miniconda3/envs/snakes3/lib/python3.7/site-packages (from traitlets>=4.2.1->notebook>=4.3.1->jupyterlab->-r requirements.txt (line 2)) (4.3.0)\n",
      "Requirement already satisfied: entrypoints>=0.2.2 in /Users/manish/miniconda3/envs/snakes3/lib/python3.7/site-packages (from nbconvert->notebook>=4.3.1->jupyterlab->-r requirements.txt (line 2)) (0.2.3)\n",
      "Requirement already satisfied: pandocfilters>=1.4.1 in /Users/manish/miniconda3/envs/snakes3/lib/python3.7/site-packages (from nbconvert->notebook>=4.3.1->jupyterlab->-r requirements.txt (line 2)) (1.4.2)\n",
      "Requirement already satisfied: mistune>=0.7.4 in /Users/manish/miniconda3/envs/snakes3/lib/python3.7/site-packages (from nbconvert->notebook>=4.3.1->jupyterlab->-r requirements.txt (line 2)) (0.8.4)\n",
      "Requirement already satisfied: pygments in /Users/manish/miniconda3/envs/snakes3/lib/python3.7/site-packages (from nbconvert->notebook>=4.3.1->jupyterlab->-r requirements.txt (line 2)) (2.2.0)\n",
      "Requirement already satisfied: testpath in /Users/manish/miniconda3/envs/snakes3/lib/python3.7/site-packages (from nbconvert->notebook>=4.3.1->jupyterlab->-r requirements.txt (line 2)) (0.4.2)\n",
      "Requirement already satisfied: bleach in /Users/manish/miniconda3/envs/snakes3/lib/python3.7/site-packages (from nbconvert->notebook>=4.3.1->jupyterlab->-r requirements.txt (line 2)) (3.0.2)\n",
      "Requirement already satisfied: MarkupSafe>=0.23 in /Users/manish/miniconda3/envs/snakes3/lib/python3.7/site-packages (from jinja2->notebook>=4.3.1->jupyterlab->-r requirements.txt (line 2)) (1.1.0)\n",
      "Requirement already satisfied: pickleshare in /Users/manish/miniconda3/envs/snakes3/lib/python3.7/site-packages (from ipython>=5.0.0->ipykernel->notebook>=4.3.1->jupyterlab->-r requirements.txt (line 2)) (0.7.5)\n",
      "Requirement already satisfied: backcall in /Users/manish/miniconda3/envs/snakes3/lib/python3.7/site-packages (from ipython>=5.0.0->ipykernel->notebook>=4.3.1->jupyterlab->-r requirements.txt (line 2)) (0.1.0)\n",
      "Requirement already satisfied: prompt-toolkit<2.1.0,>=2.0.0 in /Users/manish/miniconda3/envs/snakes3/lib/python3.7/site-packages (from ipython>=5.0.0->ipykernel->notebook>=4.3.1->jupyterlab->-r requirements.txt (line 2)) (2.0.7)\n",
      "Requirement already satisfied: pexpect; sys_platform != \"win32\" in /Users/manish/miniconda3/envs/snakes3/lib/python3.7/site-packages (from ipython>=5.0.0->ipykernel->notebook>=4.3.1->jupyterlab->-r requirements.txt (line 2)) (4.6.0)\n",
      "Requirement already satisfied: jedi>=0.10 in /Users/manish/miniconda3/envs/snakes3/lib/python3.7/site-packages (from ipython>=5.0.0->ipykernel->notebook>=4.3.1->jupyterlab->-r requirements.txt (line 2)) (0.13.1)\n",
      "Requirement already satisfied: appnope; sys_platform == \"darwin\" in /Users/manish/miniconda3/envs/snakes3/lib/python3.7/site-packages (from ipython>=5.0.0->ipykernel->notebook>=4.3.1->jupyterlab->-r requirements.txt (line 2)) (0.1.0)\n",
      "Requirement already satisfied: webencodings in /Users/manish/miniconda3/envs/snakes3/lib/python3.7/site-packages (from bleach->nbconvert->notebook>=4.3.1->jupyterlab->-r requirements.txt (line 2)) (0.5.1)\n",
      "Requirement already satisfied: wcwidth in /Users/manish/miniconda3/envs/snakes3/lib/python3.7/site-packages (from prompt-toolkit<2.1.0,>=2.0.0->ipython>=5.0.0->ipykernel->notebook>=4.3.1->jupyterlab->-r requirements.txt (line 2)) (0.1.7)\n",
      "Requirement already satisfied: ptyprocess>=0.5 in /Users/manish/miniconda3/envs/snakes3/lib/python3.7/site-packages (from pexpect; sys_platform != \"win32\"->ipython>=5.0.0->ipykernel->notebook>=4.3.1->jupyterlab->-r requirements.txt (line 2)) (0.6.0)\n",
      "Requirement already satisfied: parso>=0.3.0 in /Users/manish/miniconda3/envs/snakes3/lib/python3.7/site-packages (from jedi>=0.10->ipython>=5.0.0->ipykernel->notebook>=4.3.1->jupyterlab->-r requirements.txt (line 2)) (0.3.1)\n",
      "Installing collected packages: scipy, scikit-learn\n",
      "Successfully installed scikit-learn-0.20.3 scipy-1.2.1\n"
     ]
    }
   ],
   "source": [
    "!pip install -r requirements.txt"
   ]
  },
  {
   "cell_type": "code",
   "execution_count": 9,
   "metadata": {},
   "outputs": [],
   "source": [
    "# Matplotlib\n",
    "import matplotlib.pyplot as plt\n",
    "# Tensorflow\n",
    "import tensorflow as tf\n",
    "# Numpy and Pandas\n",
    "import numpy as np\n",
    "import pandas as pd\n",
    "# Ohter import\n",
    "import sys"
   ]
  },
  {
   "cell_type": "markdown",
   "metadata": {},
   "source": [
    "## Be sure to used Tensorflow 2.0"
   ]
  },
  {
   "cell_type": "code",
   "execution_count": 10,
   "metadata": {},
   "outputs": [],
   "source": [
    "assert hasattr(tf, \"function\") # Be sure to use tensorflow 2.0"
   ]
  },
  {
   "cell_type": "markdown",
   "metadata": {},
   "source": [
    "## Load the dataset: Fashion MNIST"
   ]
  },
  {
   "cell_type": "markdown",
   "metadata": {},
   "source": [
    "![](https://storage.googleapis.com/kaggle-datasets-images/2243/3791/9384af51de8baa77f6320901f53bd26b/dataset-cover.png)"
   ]
  },
  {
   "cell_type": "code",
   "execution_count": 13,
   "metadata": {
    "scrolled": true
   },
   "outputs": [
    {
     "name": "stdout",
     "output_type": "stream",
     "text": [
      "Downloading data from https://storage.googleapis.com/tensorflow/tf-keras-datasets/train-labels-idx1-ubyte.gz\n",
      "32768/29515 [=================================] - 0s 0us/step\n",
      "Downloading data from https://storage.googleapis.com/tensorflow/tf-keras-datasets/train-images-idx3-ubyte.gz\n",
      "26427392/26421880 [==============================] - 2s 0us/step\n",
      "Downloading data from https://storage.googleapis.com/tensorflow/tf-keras-datasets/t10k-labels-idx1-ubyte.gz\n",
      "8192/5148 [===============================================] - 0s 0us/step\n",
      "Downloading data from https://storage.googleapis.com/tensorflow/tf-keras-datasets/t10k-images-idx3-ubyte.gz\n",
      "4423680/4422102 [==============================] - 1s 0us/step\n",
      "(10000, 784)\n",
      "(10000,)\n"
     ]
    }
   ],
   "source": [
    "from sklearn.preprocessing import StandardScaler\n",
    "\n",
    "# Fashio MNIST\n",
    "fashion_mnist = tf.keras.datasets.fashion_mnist\n",
    "(images, targets), (images_test, targets_test) = fashion_mnist.load_data()\n",
    "\n",
    "# Get only a subpart of the dataset\n",
    "images = images[:10000]\n",
    "targets = targets [:10000]\n",
    "\n",
    "# Reshape the dataset and convert to float\n",
    "images = images.reshape(-1, 784)\n",
    "images = images.astype(float)\n",
    "images_test = images_test.reshape(-1, 784)\n",
    "images_test = images_test.astype(float)\n",
    "\n",
    "scaler = StandardScaler()\n",
    "images = scaler.fit_transform(images)\n",
    "images_test = scaler.transform(images_test)\n",
    "\n",
    "print(images.shape)\n",
    "print(targets.shape)"
   ]
  },
  {
   "cell_type": "markdown",
   "metadata": {},
   "source": [
    "## Plot one of the data"
   ]
  },
  {
   "cell_type": "code",
   "execution_count": 15,
   "metadata": {},
   "outputs": [
    {
     "data": {
      "image/png": "[encoded data removed]",
      "text/plain": [
       "<Figure size 432x288 with 1 Axes>"
      ]
     },
     "metadata": {
      "needs_background": "light"
     },
     "output_type": "display_data"
    }
   ],
   "source": [
    "targets_names = [\"T-shirt/top\", \"Trouser\", \"Pullover\", \"Dress\", \"Coat\", \"Sandal\", \n",
    "                 \"Shirt\", \"Sneaker\", \"Bag\", \"Ankle boot\"\n",
    "]\n",
    "# Plot one image\n",
    "plt.imshow(np.reshape(images[11], (28, 28)), cmap=\"binary\")\n",
    "plt.title(targets_names[targets[11]])\n",
    "plt.show()"
   ]
  },
  {
   "cell_type": "markdown",
   "metadata": {},
   "source": [
    "# Create the model\n",
    "![](images/simple_nn.png)"
   ]
  },
  {
   "cell_type": "markdown",
   "metadata": {},
   "source": [
    "# Create the model"
   ]
  },
  {
   "cell_type": "code",
   "execution_count": 16,
   "metadata": {},
   "outputs": [
    {
     "name": "stdout",
     "output_type": "stream",
     "text": [
      "[[0.10294472 0.05798411 0.06153525 0.10487442 0.22326398 0.14528519\n",
      "  0.02729159 0.06266852 0.0979266  0.11622563]] [9]\n"
     ]
    }
   ],
   "source": [
    "# Flatten\n",
    "model = tf.keras.models.Sequential()\n",
    "\n",
    "# Add the layers\n",
    "model.add(tf.keras.layers.Dense(256, activation=\"relu\"))\n",
    "model.add(tf.keras.layers.Dense(128, activation=\"relu\"))\n",
    "model.add(tf.keras.layers.Dense(10, activation=\"softmax\"))\n",
    "\n",
    "model_output = model.predict(images[0:1])\n",
    "print(model_output, targets[0:1])"
   ]
  },
  {
   "cell_type": "markdown",
   "metadata": {},
   "source": [
    "## Model Summary"
   ]
  },
  {
   "cell_type": "code",
   "execution_count": 17,
   "metadata": {},
   "outputs": [
    {
     "name": "stdout",
     "output_type": "stream",
     "text": [
      "Model: \"sequential\"\n",
      "_________________________________________________________________\n",
      "Layer (type)                 Output Shape              Param #   \n",
      "=================================================================\n",
      "dense (Dense)                multiple                  200960    \n",
      "_________________________________________________________________\n",
      "dense_1 (Dense)              multiple                  32896     \n",
      "_________________________________________________________________\n",
      "dense_2 (Dense)              multiple                  1290      \n",
      "=================================================================\n",
      "Total params: 235,146\n",
      "Trainable params: 235,146\n",
      "Non-trainable params: 0\n",
      "_________________________________________________________________\n"
     ]
    }
   ],
   "source": [
    "model.summary()"
   ]
  },
  {
   "cell_type": "markdown",
   "metadata": {},
   "source": [
    "## Compile the model"
   ]
  },
  {
   "cell_type": "code",
   "execution_count": 18,
   "metadata": {},
   "outputs": [],
   "source": [
    "# Compile the model\n",
    "model.compile(\n",
    "    loss=\"sparse_categorical_crossentropy\",\n",
    "    optimizer=\"sgd\",\n",
    "    metrics=[\"accuracy\"]\n",
    ")"
   ]
  },
  {
   "cell_type": "markdown",
   "metadata": {},
   "source": [
    "## Train the model"
   ]
  },
  {
   "cell_type": "code",
   "execution_count": 19,
   "metadata": {},
   "outputs": [
    {
     "name": "stdout",
     "output_type": "stream",
     "text": [
      "Train on 8000 samples, validate on 2000 samples\n",
      "Epoch 1/10\n",
      "8000/8000 [==============================] - 1s 107us/sample - loss: 1.6753 - accuracy: 0.4807 - val_loss: 1.2556 - val_accuracy: 0.6365\n",
      "Epoch 2/10\n",
      "8000/8000 [==============================] - 1s 68us/sample - loss: 1.0743 - accuracy: 0.6870 - val_loss: 0.9772 - val_accuracy: 0.7005\n",
      "Epoch 3/10\n",
      "8000/8000 [==============================] - 1s 66us/sample - loss: 0.8828 - accuracy: 0.7286 - val_loss: 0.8523 - val_accuracy: 0.7255\n",
      "Epoch 4/10\n",
      "8000/8000 [==============================] - 1s 66us/sample - loss: 0.7834 - accuracy: 0.7504 - val_loss: 0.7768 - val_accuracy: 0.7500\n",
      "Epoch 5/10\n",
      "8000/8000 [==============================] - 1s 69us/sample - loss: 0.7198 - accuracy: 0.7666 - val_loss: 0.7270 - val_accuracy: 0.7580\n",
      "Epoch 6/10\n",
      "8000/8000 [==============================] - 1s 67us/sample - loss: 0.6740 - accuracy: 0.7796 - val_loss: 0.6905 - val_accuracy: 0.7635\n",
      "Epoch 7/10\n",
      "8000/8000 [==============================] - 1s 69us/sample - loss: 0.6387 - accuracy: 0.7886 - val_loss: 0.6630 - val_accuracy: 0.7725\n",
      "Epoch 8/10\n",
      "8000/8000 [==============================] - 1s 68us/sample - loss: 0.6109 - accuracy: 0.7934 - val_loss: 0.6398 - val_accuracy: 0.7805\n",
      "Epoch 9/10\n",
      "8000/8000 [==============================] - 1s 71us/sample - loss: 0.5871 - accuracy: 0.8002 - val_loss: 0.6211 - val_accuracy: 0.7830\n",
      "Epoch 10/10\n",
      "8000/8000 [==============================] - 1s 68us/sample - loss: 0.5673 - accuracy: 0.8059 - val_loss: 0.6053 - val_accuracy: 0.7865\n"
     ]
    }
   ],
   "source": [
    "history = model.fit(images, targets, epochs=10, validation_split=0.2)"
   ]
  },
  {
   "cell_type": "code",
   "execution_count": 20,
   "metadata": {},
   "outputs": [
    {
     "data": {
      "image/png": "[encoded data removed]",
      "text/plain": [
       "<Figure size 432x288 with 1 Axes>"
      ]
     },
     "metadata": {
      "needs_background": "light"
     },
     "output_type": "display_data"
    },
    {
     "data": {
      "image/png": "[encoded data removed]",
      "text/plain": [
       "<Figure size 432x288 with 1 Axes>"
      ]
     },
     "metadata": {
      "needs_background": "light"
     },
     "output_type": "display_data"
    }
   ],
   "source": [
    "loss_curve = history.history[\"loss\"]\n",
    "acc_curve = history.history[\"accuracy\"]\n",
    "\n",
    "loss_val_curve = history.history[\"val_loss\"]\n",
    "acc_val_curve = history.history[\"val_accuracy\"]\n",
    "\n",
    "plt.plot(loss_curve, label=\"Train\")\n",
    "plt.plot(loss_val_curve, label=\"Val\")\n",
    "plt.legend(loc='upper left')\n",
    "plt.title(\"Loss\")\n",
    "plt.show()\n",
    "\n",
    "plt.plot(acc_curve, label=\"Train\")\n",
    "plt.plot(acc_val_curve, label=\"Val\")\n",
    "plt.legend(loc='upper left')\n",
    "plt.title(\"Accuracy\")\n",
    "plt.show()"
   ]
  },
  {
   "cell_type": "code",
   "execution_count": 21,
   "metadata": {},
   "outputs": [
    {
     "name": "stdout",
     "output_type": "stream",
     "text": [
      "10000/10000 [==============================] - 0s 33us/sample - loss: 0.6190 - accuracy: 0.7881\n",
      "Test Loss 0.6190300011634826\n",
      "Test Accuracy 0.7881\n"
     ]
    }
   ],
   "source": [
    "loss, acc = model.evaluate(images_test, targets_test)\n",
    "print(\"Test Loss\", loss)\n",
    "print(\"Test Accuracy\", acc)"
   ]
  },
  {
   "cell_type": "code",
   "execution_count": null,
   "metadata": {},
   "outputs": [],
   "source": []
  }
 ],
 "metadata": {
  "kernelspec": {
   "display_name": "Python 3",
   "language": "python",
   "name": "python3"
  },
  "language_info": {
   "codemirror_mode": {
    "name": "ipython",
    "version": 3
   },
   "file_extension": ".py",
   "mimetype": "text/x-python",
   "name": "python",
   "nbconvert_exporter": "python",
   "pygments_lexer": "ipython3",
   "version": "3.7.0"
  }
 },
 "nbformat": 4,
 "nbformat_minor": 2
}
